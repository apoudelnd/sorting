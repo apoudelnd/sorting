{
  "nbformat": 4,
  "nbformat_minor": 0,
  "metadata": {
    "colab": {
      "provenance": []
    },
    "kernelspec": {
      "name": "python3",
      "display_name": "Python 3"
    },
    "language_info": {
      "name": "python"
    }
  },
  "cells": [
    {
      "cell_type": "code",
      "source": [
        "from traitlets.config import defaultdict\n",
        "import os\n",
        "# from collections import defaultdict\n",
        "#all your files i.e. the simulation results should be stored in the folder out\n",
        "dir_path = '/content/out'\n",
        "all_files = os.listdir(dir_path)\n",
        "print(len(all_files))\n",
        "all_files\n",
        "all_dict = list()\n",
        "count = 0\n",
        "for file in all_files:\n",
        "\n",
        "  if len(file.split('_')) > 3:\n",
        "    count += 1\n",
        "    print(file)\n",
        "    print(file.split('_'))\n",
        "    arch = file.split('_')[0]\n",
        "    algo = file.split('_')[2]\n",
        "    cache_type = file.split('_')[3]\n",
        "    cache_size = file.split('_')[4]\n",
        "    assoc_size = file.split('_')[5]\n",
        "\n",
        "    req_items = ['simSeconds', 'simInsts','hostSeconds','system.cpu.numCycles', 'system.cpu.dcache.overallHits::total', 'system.cpu.dcache.overallMisses::total', 'system.cpu.dcache.overallMissLatency::total', 'system.cpu.icache.overallHits::total', 'system.cpu.icache.overallMisses::total', 'system.cpu.icache.overallMissLatency::total', 'system.cpu.exec_context.thread_0.numBranches', 'system.l2cache.overallMisses::total', 'system.l2cache.overallAccesses::total']\n",
        "    store = dict()\n",
        "    store_ls = dict()\n",
        "\n",
        "    simSeconds = list()\n",
        "    simInsts = list()\n",
        "    params = list()\n",
        "\n",
        "\n",
        "    with open(os.path.join(dir_path, file), 'r') as f:\n",
        "      lines = f.readlines()\n",
        "\n",
        "      line_test = (lines[2].split())\n",
        "\n",
        "      for line in lines:\n",
        "        if len(line) > 5:\n",
        "          line_split = line.split()\n",
        "          parameters = line_split[0]\n",
        "          if parameters in req_items:\n",
        "            value = line_split[1]\n",
        "\n",
        "            store_ls[parameters]= float(value)\n",
        "\n",
        "      store[f'{arch}_{algo}_{cache_type}_{cache_size}_{assoc_size}'] = store_ls\n",
        "      all_dict.append(store)\n",
        "\n"
      ],
      "metadata": {
        "colab": {
          "base_uri": "https://localhost:8080/"
        },
        "id": "XI7-vrsmUhz2",
        "outputId": "393db0b4-7758-4ca3-e8d4-9ece5479aacb"
      },
      "execution_count": null,
      "outputs": [
        {
          "output_type": "stream",
          "name": "stdout",
          "text": [
            "6\n",
            "x86_500K_merge_l1_512_a8_l2_8192_a8.txt\n",
            "['x86', '500K', 'merge', 'l1', '512', 'a8', 'l2', '8192', 'a8.txt']\n",
            "x86_500K_merge_l1_64_a8_l2_64_a8.txt\n",
            "['x86', '500K', 'merge', 'l1', '64', 'a8', 'l2', '64', 'a8.txt']\n",
            "x86_500K_quick_l1_512_a8_l2_8192_a8.txt\n",
            "['x86', '500K', 'quick', 'l1', '512', 'a8', 'l2', '8192', 'a8.txt']\n",
            "x86_500K_merge_l1_256_a8_l2_2048_a8.txt\n",
            "['x86', '500K', 'merge', 'l1', '256', 'a8', 'l2', '2048', 'a8.txt']\n",
            "x86_500K_quick_l1_256_a8_l2_2048_a8.txt\n",
            "['x86', '500K', 'quick', 'l1', '256', 'a8', 'l2', '2048', 'a8.txt']\n",
            "x86_500K_quick_l1_64_a8_l2_64_a8.txt\n",
            "['x86', '500K', 'quick', 'l1', '64', 'a8', 'l2', '64', 'a8.txt']\n",
            "6\n"
          ]
        }
      ]
    },
    {
      "cell_type": "code",
      "source": [
        "print(len(all_dict))"
      ],
      "metadata": {
        "colab": {
          "base_uri": "https://localhost:8080/"
        },
        "id": "hRhQWxvHfn8f",
        "outputId": "1dbdd40f-e31f-4459-856f-956f69203c65"
      },
      "execution_count": null,
      "outputs": [
        {
          "output_type": "stream",
          "name": "stdout",
          "text": [
            "6\n"
          ]
        }
      ]
    },
    {
      "cell_type": "code",
      "source": [
        "print(all_dict)"
      ],
      "metadata": {
        "colab": {
          "base_uri": "https://localhost:8080/"
        },
        "id": "xfI0WayniHrD",
        "outputId": "f8df1957-f159-45cb-bea1-9dc60d8b9793"
      },
      "execution_count": null,
      "outputs": [
        {
          "output_type": "stream",
          "name": "stdout",
          "text": [
            "[{'x86_merge_l1_512_a8': {'simSeconds': 0.611608, 'hostSeconds': 541.16, 'simInsts': 512535259.0, 'system.cpu.numCycles': 1954019510.0, 'system.cpu.dcache.overallHits::total': 276938562.0, 'system.cpu.dcache.overallMisses::total': 512902.0, 'system.cpu.dcache.overallMissLatency::total': 9504874756.0, 'system.cpu.exec_context.thread_0.numBranches': 46087863.0, 'system.cpu.icache.overallHits::total': 684790537.0, 'system.cpu.icache.overallMisses::total': 979.0, 'system.cpu.icache.overallMissLatency::total': 60889455.0, 'system.l2cache.overallMisses::total': 97271.0, 'system.l2cache.overallAccesses::total': 513881.0}}, {'x86_merge_l1_64_a8': {'simSeconds': 0.656884, 'hostSeconds': 539.41, 'simInsts': 512535259.0, 'system.cpu.numCycles': 2098671335.0, 'system.cpu.dcache.overallHits::total': 276554518.0, 'system.cpu.dcache.overallMisses::total': 896946.0, 'system.cpu.dcache.overallMissLatency::total': 55020351310.0, 'system.cpu.exec_context.thread_0.numBranches': 46087863.0, 'system.cpu.icache.overallHits::total': 684790536.0, 'system.cpu.icache.overallMisses::total': 980.0, 'system.cpu.icache.overallMissLatency::total': 61929554.0, 'system.l2cache.overallMisses::total': 865146.0, 'system.l2cache.overallAccesses::total': 897926.0}}, {'x86_quick_l1_512_a8': {'simSeconds': 0.479292, 'hostSeconds': 432.92, 'simInsts': 398525365.0, 'system.cpu.numCycles': 1531285777.0, 'system.cpu.dcache.overallHits::total': 258356733.0, 'system.cpu.dcache.overallMisses::total': 180982.0, 'system.cpu.dcache.overallMissLatency::total': 3355834195.0, 'system.cpu.exec_context.thread_0.numBranches': 47199095.0, 'system.cpu.icache.overallHits::total': 501828005.0, 'system.cpu.icache.overallMisses::total': 971.0, 'system.cpu.icache.overallMissLatency::total': 60969896.0, 'system.l2cache.overallMisses::total': 34752.0, 'system.l2cache.overallAccesses::total': 181953.0}}, {'x86_merge_l1_256_a8': {'simSeconds': 0.621901, 'hostSeconds': 530.49, 'simInsts': 512535259.0, 'system.cpu.numCycles': 1986905188.0, 'system.cpu.dcache.overallHits::total': 276811989.0, 'system.cpu.dcache.overallMisses::total': 639475.0, 'system.cpu.dcache.overallMissLatency::total': 19876031161.0, 'system.cpu.exec_context.thread_0.numBranches': 46087863.0, 'system.cpu.icache.overallHits::total': 684790537.0, 'system.cpu.icache.overallMisses::total': 979.0, 'system.cpu.icache.overallMissLatency::total': 62184962.0, 'system.l2cache.overallMisses::total': 262184.0, 'system.l2cache.overallAccesses::total': 640454.0}}, {'x86_quick_l1_256_a8': {'simSeconds': 0.479757, 'hostSeconds': 434.75, 'simInsts': 398525365.0, 'system.cpu.numCycles': 1532770997.0, 'system.cpu.dcache.overallHits::total': 258298034.0, 'system.cpu.dcache.overallMisses::total': 239681.0, 'system.cpu.dcache.overallMissLatency::total': 3856351556.0, 'system.cpu.exec_context.thread_0.numBranches': 47199095.0, 'system.cpu.icache.overallHits::total': 501828005.0, 'system.cpu.icache.overallMisses::total': 971.0, 'system.cpu.icache.overallMissLatency::total': 62071969.0, 'system.l2cache.overallMisses::total': 35091.0, 'system.l2cache.overallAccesses::total': 240652.0}}, {'x86_quick_l1_64_a8': {'simSeconds': 0.497189, 'hostSeconds': 453.33, 'simInsts': 398525365.0, 'system.cpu.numCycles': 1588462776.0, 'system.cpu.dcache.overallHits::total': 258178184.0, 'system.cpu.dcache.overallMisses::total': 359531.0, 'system.cpu.dcache.overallMissLatency::total': 21363844735.0, 'system.cpu.exec_context.thread_0.numBranches': 47199095.0, 'system.cpu.icache.overallHits::total': 501828004.0, 'system.cpu.icache.overallMisses::total': 972.0, 'system.cpu.icache.overallMissLatency::total': 61215601.0, 'system.l2cache.overallMisses::total': 332258.0, 'system.l2cache.overallAccesses::total': 360503.0}}]\n"
          ]
        }
      ]
    },
    {
      "cell_type": "code",
      "source": [
        "import pandas as pd\n",
        "df = pd.DataFrame(all_dict)"
      ],
      "metadata": {
        "id": "YuW4s-wrf0Ka"
      },
      "execution_count": null,
      "outputs": []
    },
    {
      "cell_type": "code",
      "source": [
        "import pandas as pd\n",
        "\n",
        "# data = [ { 'a' : { 'b' : 22 , 'c' : 33}}, {'bd' : { 'b' : 44, 'c' : 55}} ]\n",
        "\n",
        "# Create an empty dataframe with columns 'b' and 'c'\n",
        "df = pd.DataFrame(columns= ['simSeconds', 'simInsts','hostSeconds','system.cpu.numCycles', 'system.cpu.dcache.overallHits::total', 'system.cpu.dcache.overallMisses::total', 'system.cpu.dcache.overallMissLatency::total', 'system.cpu.icache.overallHits::total', 'system.cpu.icache.overallMisses::total', 'system.cpu.icache.overallMissLatency::total', 'system.cpu.exec_context.thread_0.numBranches', 'system.l2cache.overallMisses::total', 'system.l2cache.overallAccesses::total'])\n",
        "\n",
        "# Loop through each dictionary in the data list and add a new row to the dataframe for each dictionary\n",
        "for dictionary in all_dict:\n",
        "    row_key = list(dictionary.keys())[0] # Extract the row key from the dictionary key\n",
        "    row_data = list(dictionary.values())[0] # Extract the data from the dictionary value\n",
        "    row_data['row_key'] = row_key # Add the row key to the row data\n",
        "    df = df.append(row_data, ignore_index=True) # Add the row data to the dataframe, ignoring the index\n",
        "\n",
        "# Set the row_key column as the index of the dataframe\n",
        "df.set_index('row_key', inplace=True)\n",
        "\n",
        "df.to_csv('result.csv')"
      ],
      "metadata": {
        "colab": {
          "base_uri": "https://localhost:8080/"
        },
        "id": "Syhytti2o2-n",
        "outputId": "485ad4c6-cd22-40ce-f178-d0b09b43b274"
      },
      "execution_count": null,
      "outputs": [
        {
          "output_type": "stream",
          "name": "stderr",
          "text": [
            "<ipython-input-7-f972b457b695>:13: FutureWarning: The frame.append method is deprecated and will be removed from pandas in a future version. Use pandas.concat instead.\n",
            "  df = df.append(row_data, ignore_index=True) # Add the row data to the dataframe, ignoring the index\n",
            "<ipython-input-7-f972b457b695>:13: FutureWarning: The frame.append method is deprecated and will be removed from pandas in a future version. Use pandas.concat instead.\n",
            "  df = df.append(row_data, ignore_index=True) # Add the row data to the dataframe, ignoring the index\n",
            "<ipython-input-7-f972b457b695>:13: FutureWarning: The frame.append method is deprecated and will be removed from pandas in a future version. Use pandas.concat instead.\n",
            "  df = df.append(row_data, ignore_index=True) # Add the row data to the dataframe, ignoring the index\n",
            "<ipython-input-7-f972b457b695>:13: FutureWarning: The frame.append method is deprecated and will be removed from pandas in a future version. Use pandas.concat instead.\n",
            "  df = df.append(row_data, ignore_index=True) # Add the row data to the dataframe, ignoring the index\n",
            "<ipython-input-7-f972b457b695>:13: FutureWarning: The frame.append method is deprecated and will be removed from pandas in a future version. Use pandas.concat instead.\n",
            "  df = df.append(row_data, ignore_index=True) # Add the row data to the dataframe, ignoring the index\n",
            "<ipython-input-7-f972b457b695>:13: FutureWarning: The frame.append method is deprecated and will be removed from pandas in a future version. Use pandas.concat instead.\n",
            "  df = df.append(row_data, ignore_index=True) # Add the row data to the dataframe, ignoring the index\n"
          ]
        }
      ]
    },
    {
      "cell_type": "markdown",
      "source": [],
      "metadata": {
        "id": "jLux6LFs6umM"
      }
    }
  ]
}